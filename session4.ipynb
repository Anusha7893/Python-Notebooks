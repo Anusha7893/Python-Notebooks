{
  "nbformat": 4,
  "nbformat_minor": 0,
  "metadata": {
    "colab": {
      "provenance": [],
      "include_colab_link": true
    },
    "kernelspec": {
      "name": "python3",
      "display_name": "Python 3"
    },
    "language_info": {
      "name": "python"
    }
  },
  "cells": [
    {
      "cell_type": "markdown",
      "metadata": {
        "id": "view-in-github",
        "colab_type": "text"
      },
      "source": [
        "<a href=\"https://colab.research.google.com/github/Anusha7893/Python-Notebooks/blob/main/session4.ipynb\" target=\"_parent\"><img src=\"https://colab.research.google.com/assets/colab-badge.svg\" alt=\"Open In Colab\"/></a>"
      ]
    },
    {
      "cell_type": "markdown",
      "source": [
        "# Relational Operators\n",
        "\n",
        "* Relational Operators are used to compare values\n",
        "* Gives `True` or `False` as the result of a comparison.    \n",
        "\n",
        "# These are different relational operators\n",
        "\n",
        "* `>`\tIs greater than\n",
        "* `<`\tIs less than\n",
        "* `==`\tIs equal to\n",
        "* `<=`\tIs less than or equal to\n",
        "* `>=`\tIs greater than or equal to\n",
        "* `!=`\tIs not equal to\n"
      ],
      "metadata": {
        "id": "qzS1JppvaMlj"
      }
    },
    {
      "cell_type": "code",
      "source": [
        "# Code\n",
        "print(5 < 10)\n",
        "print(2 != 1)"
      ],
      "metadata": {
        "colab": {
          "base_uri": "https://localhost:8080/"
        },
        "id": "dNqxI4rAbScL",
        "outputId": "1721fd37-bccb-455e-cd0f-862232978b13"
      },
      "execution_count": null,
      "outputs": [
        {
          "output_type": "stream",
          "name": "stdout",
          "text": [
            "True\n",
            "True\n"
          ]
        }
      ]
    },
    {
      "cell_type": "markdown",
      "source": [
        "# Possible Mistakes\n",
        "**Mistake - 1**"
      ],
      "metadata": {
        "id": "7RFgJ_V3cWtZ"
      }
    },
    {
      "cell_type": "code",
      "source": [
        "# Code\n",
        "print(3 = 3)"
      ],
      "metadata": {
        "colab": {
          "base_uri": "https://localhost:8080/"
        },
        "id": "K38SKDuTcy9X",
        "outputId": "8fcdbfc0-0e64-4fad-d90f-f60a50530dbb"
      },
      "execution_count": null,
      "outputs": [
        {
          "output_type": "stream",
          "name": "stdout",
          "text": [
            "True\n"
          ]
        }
      ]
    },
    {
      "cell_type": "markdown",
      "source": [
        "**Mistake - 2**"
      ],
      "metadata": {
        "id": "gulyZLL-c7RV"
      }
    },
    {
      "cell_type": "code",
      "source": [
        "# Code\n",
        "print(2 < = 3)"
      ],
      "metadata": {
        "colab": {
          "base_uri": "https://localhost:8080/"
        },
        "id": "a6NLImeKdC24",
        "outputId": "b7519af6-4900-4a46-8c96-2e4b4bdbb51a"
      },
      "execution_count": null,
      "outputs": [
        {
          "output_type": "stream",
          "name": "stdout",
          "text": [
            "True\n"
          ]
        }
      ]
    },
    {
      "cell_type": "markdown",
      "source": [
        "**Note**: Space between relational operators ==, >=, <= , != is not valid in Python."
      ],
      "metadata": {
        "id": "BGOy3zaGdKL3"
      }
    },
    {
      "cell_type": "markdown",
      "source": [
        "# Comparing Numbers\n"
      ],
      "metadata": {
        "id": "2uCi1My1djyq"
      }
    },
    {
      "cell_type": "code",
      "source": [
        "# Code\n",
        "print(2 <= 3)\n",
        "print(2.55 >= 2.55)"
      ],
      "metadata": {
        "colab": {
          "base_uri": "https://localhost:8080/"
        },
        "id": "biaWoz0qdp3L",
        "outputId": "4528d64e-31f5-4f69-b34a-0c8a8c900c20"
      },
      "execution_count": null,
      "outputs": [
        {
          "output_type": "stream",
          "name": "stdout",
          "text": [
            "True\n",
            "True\n"
          ]
        }
      ]
    },
    {
      "cell_type": "markdown",
      "source": [
        "**Comparing Integers and Floats**"
      ],
      "metadata": {
        "id": "Mo3x4Ql_dxHb"
      }
    },
    {
      "cell_type": "code",
      "source": [
        "# Code\n",
        "print(12 == 12.0)\n",
        "print(12 <= 12.1)"
      ],
      "metadata": {
        "colab": {
          "base_uri": "https://localhost:8080/"
        },
        "id": "rbfD5_2qd248",
        "outputId": "3ad438ba-d935-42b3-c4ec-63d222dd1348"
      },
      "execution_count": null,
      "outputs": [
        {
          "output_type": "stream",
          "name": "stdout",
          "text": [
            "True\n",
            "True\n"
          ]
        }
      ]
    },
    {
      "cell_type": "markdown",
      "source": [
        "**Comparing Strings**"
      ],
      "metadata": {
        "id": "4Sxlahe9d9zJ"
      }
    },
    {
      "cell_type": "code",
      "source": [
        "print(\"ABC\" == \"ABC\")\n",
        "print(\"CBA\" != \"ABC\")"
      ],
      "metadata": {
        "colab": {
          "base_uri": "https://localhost:8080/"
        },
        "id": "DKqF8dzOeUoK",
        "outputId": "29282742-bd07-4462-8559-8babc01eb1dd"
      },
      "execution_count": null,
      "outputs": [
        {
          "output_type": "stream",
          "name": "stdout",
          "text": [
            "True\n",
            "True\n"
          ]
        }
      ]
    },
    {
      "cell_type": "markdown",
      "source": [
        "# Case Sensitive"
      ],
      "metadata": {
        "id": "R6Qs0NLZeYro"
      }
    },
    {
      "cell_type": "code",
      "source": [
        "# Code\n",
        "print(\"ABC\" == \"abc\")"
      ],
      "metadata": {
        "colab": {
          "base_uri": "https://localhost:8080/"
        },
        "id": "X2Daxcg-e2Jh",
        "outputId": "d8655522-cabd-4479-fcf0-c25f3b665640"
      },
      "execution_count": null,
      "outputs": [
        {
          "output_type": "stream",
          "name": "stdout",
          "text": [
            "False\n"
          ]
        }
      ]
    },
    {
      "cell_type": "markdown",
      "source": [
        "**Note**: Python is case sensitive.\n",
        "It means `X` (Capital letter) and `x` (small letter) are not the same in Python."
      ],
      "metadata": {
        "id": "heunWMl3fGGm"
      }
    },
    {
      "cell_type": "markdown",
      "source": [
        "# Strings and Equality Operator"
      ],
      "metadata": {
        "id": "GLibsZMZfUUw"
      }
    },
    {
      "cell_type": "code",
      "source": [
        "# Code\n",
        "print(True == \"True\")\n",
        "print(123 == \"123\")\n",
        "print(1.1 == \"1.1\")"
      ],
      "metadata": {
        "colab": {
          "base_uri": "https://localhost:8080/"
        },
        "id": "lAFFMYI5fc6n",
        "outputId": "038b3884-e0a9-4b6c-d72f-6c053284db98"
      },
      "execution_count": null,
      "outputs": [
        {
          "output_type": "stream",
          "name": "stdout",
          "text": [
            "False\n",
            "False\n",
            "False\n"
          ]
        }
      ]
    },
    {
      "cell_type": "markdown",
      "source": [
        "# **Logical Operators**\n",
        "\n",
        "The logical operators are used to perform logical operations on Boolean values.\n",
        "Gives `True` or `False` as the result.  \n",
        "\n",
        "Following are the logical operators  \n",
        "\n",
        "* `and`\n",
        "* `or`\n",
        "* `not`"
      ],
      "metadata": {
        "id": "A5AbkOEEgEIZ"
      }
    },
    {
      "cell_type": "markdown",
      "source": [
        "# Logical AND Operator\n",
        "Gives `True` if both the booleans are true else, it gives `False`"
      ],
      "metadata": {
        "id": "DCeWrYkhgLgd"
      }
    },
    {
      "cell_type": "code",
      "source": [
        "# Code\n",
        "print(True and False) # symbol '&'"
      ],
      "metadata": {
        "colab": {
          "base_uri": "https://localhost:8080/"
        },
        "id": "v7oD98gkg7OV",
        "outputId": "42d6559d-f134-413d-ff11-0d4d2ec4c41d"
      },
      "execution_count": null,
      "outputs": [
        {
          "output_type": "stream",
          "name": "stdout",
          "text": [
            "False\n"
          ]
        }
      ]
    },
    {
      "cell_type": "markdown",
      "source": [
        "**Examples of Logical AND**"
      ],
      "metadata": {
        "id": "w4kS5I9RhO4W"
      }
    },
    {
      "cell_type": "code",
      "source": [
        "# Code\n",
        "print((2 < 3) and (1 < 2))"
      ],
      "metadata": {
        "colab": {
          "base_uri": "https://localhost:8080/"
        },
        "id": "PTto9cxChW7L",
        "outputId": "ddb922a6-cc5b-440b-a353-5d961e49d29e"
      },
      "execution_count": null,
      "outputs": [
        {
          "output_type": "stream",
          "name": "stdout",
          "text": [
            "True\n"
          ]
        }
      ]
    },
    {
      "cell_type": "markdown",
      "source": [
        "**Step by Step Explanation**\n",
        "\n",
        "`(2 < 3) and (1 < 2)`\n",
        "\n",
        "`True and (1 < 2)`\n",
        "\n",
        "`True and True`"
      ],
      "metadata": {
        "id": "d7NNen4Hhcnl"
      }
    },
    {
      "cell_type": "markdown",
      "source": [
        "# Logical OR Operator\n",
        "Gives `True` if any one of the booleans is true else, it gives `False`"
      ],
      "metadata": {
        "id": "Y-X_YLSEh7j8"
      }
    },
    {
      "cell_type": "code",
      "source": [
        "# Code\n",
        "print(True or False) # symbol '|'"
      ],
      "metadata": {
        "colab": {
          "base_uri": "https://localhost:8080/"
        },
        "id": "F0HE_QiciVdy",
        "outputId": "dc8df646-39b0-4905-a99a-6dc399ad92f9"
      },
      "execution_count": null,
      "outputs": [
        {
          "output_type": "stream",
          "name": "stdout",
          "text": [
            "True\n"
          ]
        }
      ]
    },
    {
      "cell_type": "markdown",
      "source": [
        "**Examples of Logical OR**"
      ],
      "metadata": {
        "id": "7_ND2wCyiXn5"
      }
    },
    {
      "cell_type": "code",
      "source": [
        "# Code\n",
        "print((2 < 3) or (2 < 1))"
      ],
      "metadata": {
        "colab": {
          "base_uri": "https://localhost:8080/"
        },
        "id": "hs5NlTNuimAb",
        "outputId": "cc0c9ce3-ad4f-48f4-9728-73e2b1ff74ed"
      },
      "execution_count": null,
      "outputs": [
        {
          "output_type": "stream",
          "name": "stdout",
          "text": [
            "True\n"
          ]
        }
      ]
    },
    {
      "cell_type": "markdown",
      "source": [
        "**Step by Step Explanation**\n",
        "\n",
        "`(2 < 3) or (2 < 1)`  \n",
        "\n",
        "`True or (2 < 1)`  \n",
        "\n",
        "`True or False`"
      ],
      "metadata": {
        "id": "za8JoJgxitXu"
      }
    },
    {
      "cell_type": "markdown",
      "source": [
        "# Logical NOT Operator\n",
        "\n",
        "Gives the opposite value of the given boolean."
      ],
      "metadata": {
        "id": "fpYSJB04jJLo"
      }
    },
    {
      "cell_type": "code",
      "source": [
        "# Code\n",
        "print(not(True)) # symbol '~'"
      ],
      "metadata": {
        "colab": {
          "base_uri": "https://localhost:8080/"
        },
        "id": "SEutf49njag_",
        "outputId": "15868e4d-defc-4cb1-a2d5-3593e5ef937f"
      },
      "execution_count": null,
      "outputs": [
        {
          "output_type": "stream",
          "name": "stdout",
          "text": [
            "False\n"
          ]
        }
      ]
    },
    {
      "cell_type": "markdown",
      "source": [
        "**Examples of Logical NOT**"
      ],
      "metadata": {
        "id": "RfS5bxsgjgRb"
      }
    },
    {
      "cell_type": "markdown",
      "source": [
        "**Step by Step Explanation**\n",
        "\n",
        "`not(2 < 3)`\n",
        "\n",
        "`not(True)`\n",
        "\n",
        "`False`"
      ],
      "metadata": {
        "id": "5xhK1rVIj4E7"
      }
    },
    {
      "cell_type": "markdown",
      "source": [
        "# **Summary**"
      ],
      "metadata": {
        "id": "p2Vi9CUFjs8m"
      }
    },
    {
      "cell_type": "markdown",
      "source": [
        "\n",
        "\n",
        "1. Logical `AND` Operator gives True if all the booleans are true.\n",
        "2. Logical `OR` Operator gives True if any of the booleans are true.\n",
        "3. Logical `NOT` Operator gives the opposite value\n",
        "\n",
        "\n",
        "\n"
      ],
      "metadata": {
        "id": "a1tcTGGZkMPw"
      }
    },
    {
      "cell_type": "code",
      "source": [
        "count=0\n",
        "while count<10:\n",
        "  print(count)\n",
        "  count*=1"
      ],
      "metadata": {
        "id": "GG8vCQ1sbpjE"
      },
      "execution_count": null,
      "outputs": []
    }
  ]
}