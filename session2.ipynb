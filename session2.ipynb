{
  "nbformat": 4,
  "nbformat_minor": 0,
  "metadata": {
    "colab": {
      "provenance": [],
      "include_colab_link": true
    },
    "kernelspec": {
      "name": "python3",
      "display_name": "Python 3"
    },
    "language_info": {
      "name": "python"
    }
  },
  "cells": [
    {
      "cell_type": "markdown",
      "metadata": {
        "id": "view-in-github",
        "colab_type": "text"
      },
      "source": [
        "<a href=\"https://colab.research.google.com/github/Anusha7893/Python-Notebooks/blob/main/session2.ipynb\" target=\"_parent\"><img src=\"https://colab.research.google.com/assets/colab-badge.svg\" alt=\"Open In Colab\"/></a>"
      ]
    },
    {
      "cell_type": "markdown",
      "source": [
        "## Inputs and Outputs Basics"
      ],
      "metadata": {
        "id": "zjpGKyFa_DMg"
      }
    },
    {
      "cell_type": "code",
      "source": [
        "username = input(\"enter the name : \")\n",
        "print(username)"
      ],
      "metadata": {
        "colab": {
          "base_uri": "https://localhost:8080/"
        },
        "id": "iObh6MtvAcnE",
        "outputId": "f1a60b25-56af-4bf5-a639-3e244253db8f"
      },
      "execution_count": null,
      "outputs": [
        {
          "output_type": "stream",
          "name": "stdout",
          "text": [
            "enter the name : raghu\n",
            "raghu\n"
          ]
        }
      ]
    },
    {
      "cell_type": "markdown",
      "source": [
        "## Working with String"
      ],
      "metadata": {
        "id": "viapqbW7BNsa"
      }
    },
    {
      "cell_type": "code",
      "source": [
        "# String Concatenation\n",
        "\n",
        "string_a = \"hello\"\n",
        "string_b = \"world\"\n",
        "print(string_a +\" \"+ string_b)"
      ],
      "metadata": {
        "colab": {
          "base_uri": "https://localhost:8080/"
        },
        "id": "3Rz_EhWmBW7d",
        "outputId": "11a1f3e1-cccf-46db-e271-70c8fcd3fe56"
      },
      "execution_count": null,
      "outputs": [
        {
          "output_type": "stream",
          "name": "stdout",
          "text": [
            "hello world\n"
          ]
        }
      ]
    },
    {
      "cell_type": "code",
      "source": [
        "#String Repetition\n",
        "\n",
        "string_a = \"123\"\n",
        "a=5\n",
        "print(string_a * a)\n",
        "\n"
      ],
      "metadata": {
        "colab": {
          "base_uri": "https://localhost:8080/"
        },
        "id": "CdsRxcFOBvyr",
        "outputId": "8d9455da-1475-46f7-c892-1199348fa10a"
      },
      "execution_count": null,
      "outputs": [
        {
          "output_type": "stream",
          "name": "stdout",
          "text": [
            "123asd123asd123asd123asd123asd\n"
          ]
        }
      ]
    },
    {
      "cell_type": "code",
      "source": [
        "print((string_a*a)+\"irwfi;fw \"+(string_b*a)+\"***\")"
      ],
      "metadata": {
        "colab": {
          "base_uri": "https://localhost:8080/"
        },
        "id": "ZfoyPddJDIVv",
        "outputId": "30d79d17-5f16-498b-af94-ebdf24ff2462"
      },
      "execution_count": null,
      "outputs": [
        {
          "output_type": "stream",
          "name": "stdout",
          "text": [
            "123asd123asd123asd123asd123asdirwfi;fw worldworldworldworldworld***\n"
          ]
        }
      ]
    },
    {
      "cell_type": "code",
      "source": [
        "string = \"123asd123asd123asd123asd123asdirwfi;fw worldworldworldworldworldqq*\"\n",
        "print(len(string)-1)"
      ],
      "metadata": {
        "colab": {
          "base_uri": "https://localhost:8080/"
        },
        "id": "3Xp2I1QyEBM4",
        "outputId": "76fbfa98-c532-4029-b709-aa97104150b1"
      },
      "execution_count": null,
      "outputs": [
        {
          "output_type": "stream",
          "name": "stdout",
          "text": [
            "66\n"
          ]
        }
      ]
    },
    {
      "cell_type": "code",
      "source": [
        "srting_slicing = string[]\n",
        "print(srting_slicing)"
      ],
      "metadata": {
        "id": "PS0PGbYsIG7i"
      },
      "execution_count": null,
      "outputs": []
    },
    {
      "cell_type": "code",
      "source": [
        "username = input(\"enter the name : \")\n",
        "print(\"the input length is: \"+str(len(username)))"
      ],
      "metadata": {
        "colab": {
          "base_uri": "https://localhost:8080/"
        },
        "id": "TlyXzqflEyFD",
        "outputId": "f07e9f9d-b8a1-4b82-9afb-3a9a92664276"
      },
      "execution_count": null,
      "outputs": [
        {
          "output_type": "stream",
          "name": "stdout",
          "text": [
            "enter the name : Raghu\n",
            "the input length is: 5\n"
          ]
        }
      ]
    },
    {
      "cell_type": "code",
      "source": [
        "string[66]"
      ],
      "metadata": {
        "colab": {
          "base_uri": "https://localhost:8080/",
          "height": 36
        },
        "id": "T2L7ngPzGod-",
        "outputId": "6181cab2-a0cd-436a-e8c8-0c0c3ed8448c"
      },
      "execution_count": null,
      "outputs": [
        {
          "output_type": "execute_result",
          "data": {
            "text/plain": [
              "'*'"
            ],
            "application/vnd.google.colaboratory.intrinsic+json": {
              "type": "string"
            }
          },
          "metadata": {},
          "execution_count": 40
        }
      ]
    },
    {
      "cell_type": "code",
      "source": [
        "n=len(string)\n",
        "half_the_length=int(n/2) #n//2\n",
        "print(half_the_length)\n",
        "s1=5\n",
        "s2=string[half_the_length:]\n",
        "print(s1)\n",
        "print(s2)\n",
        "\n"
      ],
      "metadata": {
        "colab": {
          "base_uri": "https://localhost:8080/"
        },
        "id": "vTWeXKmUITjk",
        "outputId": "f321291d-a191-4773-80c6-f129dec32e0f"
      },
      "execution_count": null,
      "outputs": [
        {
          "output_type": "stream",
          "name": "stdout",
          "text": [
            "2\n",
            "5\n",
            "ghu\n"
          ]
        }
      ]
    },
    {
      "cell_type": "markdown",
      "source": [
        "##Type Conversion"
      ],
      "metadata": {
        "id": "iR04sqtSHq_e"
      }
    },
    {
      "cell_type": "code",
      "source": [
        "# string=\"raghu\"\n",
        "# s1=\"jjjkj\"\n",
        "string,s1=\"raghu\", 5\n",
        "print(string,s1)"
      ],
      "metadata": {
        "colab": {
          "base_uri": "https://localhost:8080/"
        },
        "id": "0KFvdgYbH3o7",
        "outputId": "a7ac74ca-e95c-485f-b1ac-57ff1964d361"
      },
      "execution_count": null,
      "outputs": [
        {
          "output_type": "stream",
          "name": "stdout",
          "text": [
            "raghu 5\n"
          ]
        }
      ]
    },
    {
      "cell_type": "code",
      "source": [
        "a=5\n",
        "print(type(a))\n",
        "a=\"aaa\"\n",
        "print(type(a))\n"
      ],
      "metadata": {
        "colab": {
          "base_uri": "https://localhost:8080/"
        },
        "id": "gGf6od4hL4QF",
        "outputId": "82cd9c77-abf2-4cf2-d37e-f0442044297b"
      },
      "execution_count": null,
      "outputs": [
        {
          "output_type": "stream",
          "name": "stdout",
          "text": [
            "<class 'int'>\n",
            "<class 'str'>\n"
          ]
        }
      ]
    },
    {
      "cell_type": "code",
      "source": [
        "int()\n",
        "float()\n",
        "str()\n",
        "bool()"
      ],
      "metadata": {
        "colab": {
          "base_uri": "https://localhost:8080/"
        },
        "id": "SGCu0ixnOm1_",
        "outputId": "bae3106e-c505-4196-efd7-4872810664bb"
      },
      "execution_count": null,
      "outputs": [
        {
          "output_type": "execute_result",
          "data": {
            "text/plain": [
              "False"
            ]
          },
          "metadata": {},
          "execution_count": 70
        }
      ]
    },
    {
      "cell_type": "code",
      "source": [
        "a=\"jhuy\"\n",
        "print(bool(a))\n",
        " print(type(bool(a)))"
      ],
      "metadata": {
        "colab": {
          "base_uri": "https://localhost:8080/"
        },
        "id": "Zz7XsGawOyBa",
        "outputId": "95f0f0d8-8e44-478d-e477-184e89a237c1"
      },
      "execution_count": null,
      "outputs": [
        {
          "output_type": "stream",
          "name": "stdout",
          "text": [
            "True\n",
            "<class 'bool'>\n"
          ]
        }
      ]
    },
    {
      "cell_type": "code",
      "source": [
        "This is a comment\n",
        "written in\n",
        "more than just one line\n",
        "# print(\"Hello, World!\")"
      ],
      "metadata": {
        "id": "uwANVA6nXH5J"
      },
      "execution_count": null,
      "outputs": []
    }
  ]
}